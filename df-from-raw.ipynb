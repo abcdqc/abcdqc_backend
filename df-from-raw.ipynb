{
 "cells": [
  {
   "cell_type": "code",
   "execution_count": 14,
   "metadata": {},
   "outputs": [],
   "source": [
    "import pandas as pd\n",
    "import os\n",
    "import re\n",
    "import json\n",
    "import time\n",
    "\n",
    "jsonList = []\n",
    "for root, dirs, files in os.walk(\"/abcdqc_data/mriqc/\"):\n",
    "    for filename in files:\n",
    "        if re.match(\".*json$\", filename) is not None:\n",
    "            jsonList.append(root + '/' + filename)"
   ]
  },
  {
   "cell_type": "code",
   "execution_count": 15,
   "metadata": {},
   "outputs": [
    {
     "name": "stdout",
     "output_type": "stream",
     "text": [
      "0/46486,0.0009272098541259766 seconds\n",
      "1000/46486,7.695559740066528 seconds\n",
      "2000/46486,22.773604154586792 seconds\n",
      "3000/46486,37.66942119598389 seconds\n",
      "4000/46486,52.60311532020569 seconds\n",
      "5000/46486,67.58821964263916 seconds\n",
      "6000/46486,82.51757788658142 seconds\n",
      "7000/46486,97.34772157669067 seconds\n",
      "8000/46486,112.10380291938782 seconds\n",
      "9000/46486,127.29278206825256 seconds\n",
      "10000/46486,142.59850192070007 seconds\n",
      "11000/46486,157.42021346092224 seconds\n",
      "12000/46486,172.18739414215088 seconds\n",
      "13000/46486,187.13512229919434 seconds\n",
      "14000/46486,202.40378594398499 seconds\n",
      "15000/46486,217.78019332885742 seconds\n",
      "16000/46486,232.6773076057434 seconds\n",
      "17000/46486,247.98191118240356 seconds\n",
      "18000/46486,263.4233486652374 seconds\n",
      "19000/46486,278.74613881111145 seconds\n",
      "20000/46486,294.02822256088257 seconds\n",
      "21000/46486,309.2393944263458 seconds\n",
      "22000/46486,324.355352640152 seconds\n",
      "23000/46486,339.45989990234375 seconds\n",
      "24000/46486,354.6034801006317 seconds\n",
      "25000/46486,369.817156791687 seconds\n",
      "26000/46486,385.4005687236786 seconds\n",
      "27000/46486,400.48751306533813 seconds\n",
      "28000/46486,415.6595256328583 seconds\n",
      "29000/46486,431.2407555580139 seconds\n",
      "30000/46486,446.693608045578 seconds\n",
      "31000/46486,462.11034083366394 seconds\n",
      "32000/46486,477.571649312973 seconds\n",
      "33000/46486,492.9898910522461 seconds\n",
      "34000/46486,508.60840106010437 seconds\n",
      "35000/46486,524.089759349823 seconds\n",
      "36000/46486,539.8268938064575 seconds\n",
      "37000/46486,555.3061044216156 seconds\n",
      "38000/46486,570.7495052814484 seconds\n",
      "39000/46486,586.6697845458984 seconds\n",
      "40000/46486,602.3237183094025 seconds\n",
      "41000/46486,617.9229762554169 seconds\n",
      "42000/46486,633.5597829818726 seconds\n",
      "43000/46486,649.0975661277771 seconds\n",
      "44000/46486,664.9649198055267 seconds\n",
      "45000/46486,680.8309469223022 seconds\n",
      "46000/46486,696.4080851078033 seconds\n"
     ]
    }
   ],
   "source": [
    "# https://stackoverflow.com/questions/52782024/reading-dictionary-stored-on-text-file-and-convert-to-pandas-dataframe\n",
    "#dfs = {k: pd.Series(v) for k,v in r.json().items()}\n",
    "\n",
    "def readjson(file):\n",
    "    with open(file) as f:\n",
    "        jsonstr = json.load(f)\n",
    "\n",
    "    return(pd.io.json.json_normalize(jsonstr))\n",
    "\n",
    "#df = readjson(jsonList[0])\n",
    "\n",
    "count = 1\n",
    "json_list = []\n",
    "start_time = time.time()\n",
    "concat_at = 1000\n",
    "df = pd.DataFrame()\n",
    "for ji, file in enumerate(jsonList):\n",
    "    if ji % 1000 == 0:\n",
    "        print(str(ji) + \"/\" + str(len(jsonList)) + \",\" + str(time.time() - start_time) + \" seconds\", flush=True)\n",
    "        if json_list != []:\n",
    "            df = df.append(pd.concat(json_list, sort=True, ignore_index=True, copy=False), ignore_index=True)\n",
    "            json_list=[]\n",
    "    json_list.append(readjson(file))\n",
    "df = df.append(pd.concat(json_list, sort=True, ignore_index=True, copy=False), ignore_index=True)\n",
    "# uncomment to allow tracking progress\n",
    "#print(str(count) + \"/\" + str(len(jsonList)) + \",\" + str(time.time() - start_time) + \" seconds\")"
   ]
  },
  {
   "cell_type": "code",
   "execution_count": 16,
   "metadata": {},
   "outputs": [],
   "source": [
    "df.to_csv('/abcdqc_data/batchserver/output/df.csv', index=False)"
   ]
  },
  {
   "cell_type": "code",
   "execution_count": null,
   "metadata": {},
   "outputs": [],
   "source": []
  }
 ],
 "metadata": {
  "kernelspec": {
   "display_name": "Python 3",
   "language": "python",
   "name": "python3"
  },
  "language_info": {
   "codemirror_mode": {
    "name": "ipython",
    "version": 3
   },
   "file_extension": ".py",
   "mimetype": "text/x-python",
   "name": "python",
   "nbconvert_exporter": "python",
   "pygments_lexer": "ipython3",
   "version": "3.7.1"
  }
 },
 "nbformat": 4,
 "nbformat_minor": 2
}
