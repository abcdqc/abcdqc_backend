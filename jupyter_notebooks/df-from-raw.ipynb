{
 "cells": [
  {
   "cell_type": "code",
   "execution_count": 3,
   "metadata": {},
   "outputs": [],
   "source": [
    "import pandas as pd\n",
    "import os\n",
    "import re\n",
    "import json\n",
    "import time\n",
    "import unittest"
   ]
  },
  {
   "cell_type": "code",
   "execution_count": 4,
   "metadata": {},
   "outputs": [],
   "source": [
    "jsonList = []\n",
    "for root, dirs, files in os.walk(\"/abcdqc_data/mriqc/\"):\n",
    "    for filename in files:\n",
    "        if re.match(\".*json$\", filename) is not None:\n",
    "            jsonList.append(root + '/' + filename)"
   ]
  },
  {
   "cell_type": "code",
   "execution_count": 5,
   "metadata": {},
   "outputs": [],
   "source": [
    "# https://stackoverflow.com/questions/52782024/reading-dictionary-stored-on-text-file-and-convert-to-pandas-dataframe\n",
    "def readjson(file):\n",
    "    with open(file) as f:\n",
    "        jsonstr = json.load(f)\n",
    "\n",
    "    return(pd.io.json.json_normalize(jsonstr))"
   ]
  },
  {
   "cell_type": "code",
   "execution_count": 15,
   "metadata": {},
   "outputs": [
    {
     "name": "stdout",
     "output_type": "stream",
     "text": [
      "0/46486,0.0009272098541259766 seconds\n",
      "1000/46486,7.695559740066528 seconds\n",
      "2000/46486,22.773604154586792 seconds\n",
      "3000/46486,37.66942119598389 seconds\n",
      "4000/46486,52.60311532020569 seconds\n",
      "5000/46486,67.58821964263916 seconds\n",
      "6000/46486,82.51757788658142 seconds\n",
      "7000/46486,97.34772157669067 seconds\n",
      "8000/46486,112.10380291938782 seconds\n",
      "9000/46486,127.29278206825256 seconds\n",
      "10000/46486,142.59850192070007 seconds\n",
      "11000/46486,157.42021346092224 seconds\n",
      "12000/46486,172.18739414215088 seconds\n",
      "13000/46486,187.13512229919434 seconds\n",
      "14000/46486,202.40378594398499 seconds\n",
      "15000/46486,217.78019332885742 seconds\n",
      "16000/46486,232.6773076057434 seconds\n",
      "17000/46486,247.98191118240356 seconds\n",
      "18000/46486,263.4233486652374 seconds\n",
      "19000/46486,278.74613881111145 seconds\n",
      "20000/46486,294.02822256088257 seconds\n",
      "21000/46486,309.2393944263458 seconds\n",
      "22000/46486,324.355352640152 seconds\n",
      "23000/46486,339.45989990234375 seconds\n",
      "24000/46486,354.6034801006317 seconds\n",
      "25000/46486,369.817156791687 seconds\n",
      "26000/46486,385.4005687236786 seconds\n",
      "27000/46486,400.48751306533813 seconds\n",
      "28000/46486,415.6595256328583 seconds\n",
      "29000/46486,431.2407555580139 seconds\n",
      "30000/46486,446.693608045578 seconds\n",
      "31000/46486,462.11034083366394 seconds\n",
      "32000/46486,477.571649312973 seconds\n",
      "33000/46486,492.9898910522461 seconds\n",
      "34000/46486,508.60840106010437 seconds\n",
      "35000/46486,524.089759349823 seconds\n",
      "36000/46486,539.8268938064575 seconds\n",
      "37000/46486,555.3061044216156 seconds\n",
      "38000/46486,570.7495052814484 seconds\n",
      "39000/46486,586.6697845458984 seconds\n",
      "40000/46486,602.3237183094025 seconds\n",
      "41000/46486,617.9229762554169 seconds\n",
      "42000/46486,633.5597829818726 seconds\n",
      "43000/46486,649.0975661277771 seconds\n",
      "44000/46486,664.9649198055267 seconds\n",
      "45000/46486,680.8309469223022 seconds\n",
      "46000/46486,696.4080851078033 seconds\n"
     ]
    }
   ],
   "source": [
    "count = 1\n",
    "json_list = []\n",
    "start_time = time.time()\n",
    "concat_at = 1000\n",
    "df = pd.DataFrame()\n",
    "for ji, file in enumerate(jsonList):\n",
    "    if ji % 1000 == 0:\n",
    "        print(str(ji) + \"/\" + str(len(jsonList)) + \",\" + str(time.time() - start_time) + \" seconds\", flush=True)\n",
    "        if json_list != []:\n",
    "            df = df.append(pd.concat(json_list, sort=True, ignore_index=True, copy=False), ignore_index=True)\n",
    "            json_list=[]\n",
    "    json_list.append(readjson(file))\n",
    "df = df.append(pd.concat(json_list, sort=True, ignore_index=True, copy=False), ignore_index=True)"
   ]
  },
  {
   "cell_type": "code",
   "execution_count": 16,
   "metadata": {},
   "outputs": [],
   "source": [
    "df.to_csv('/abcdqc_data/batchserver/output/df.csv', index=False)"
   ]
  },
  {
   "cell_type": "markdown",
   "metadata": {},
   "source": [
    "## Testing Framework"
   ]
  },
  {
   "cell_type": "code",
   "execution_count": 25,
   "metadata": {},
   "outputs": [],
   "source": [
    "# readjson\n",
    "def readjson_test():\n",
    "    dat = readjson('/abcdqc_data/batchserver/test/input/test.json')\n",
    "    print(dat.columns.values)\n",
    "    col_t = ['bids_meta.AcquisitionMatrixPE', 'bids_meta.AcquisitionNumber', 'bids_meta.AcquisitionTime', 'bids_meta.ConversionSoftware', 'bids_meta.ConversionSoftwareVersion', 'bids_meta.DeviceSerialNumber', 'bids_meta.EchoTime', 'bids_meta.FlipAngle',\n",
    " 'bids_meta.ImageOrientationPatientDICOM', 'bids_meta.ImageType',\n",
    " 'bids_meta.InPlanePhaseEncodingDirectionDICOM', 'bids_meta.InversionTime',\n",
    " 'bids_meta.MRAcquisitionType', 'bids_meta.MagneticFieldStrength',\n",
    " 'bids_meta.Manufacturer', 'bids_meta.ManufacturersModelName',\n",
    " 'bids_meta.Modality', 'bids_meta.PatientPosition',\n",
    " 'bids_meta.PercentPhaseFOV', 'bids_meta.PixelBandwidth',\n",
    " 'bids_meta.ProtocolName', 'bids_meta.ReconMatrixPE',\n",
    " 'bids_meta.RepetitionTime', 'bids_meta.SAR', 'bids_meta.ScanOptions',\n",
    " 'bids_meta.ScanningSequence', 'bids_meta.SequenceVariant',\n",
    " 'bids_meta.SeriesDescription', 'bids_meta.SeriesNumber',\n",
    " 'bids_meta.SliceThickness', 'bids_meta.SoftwareVersions',\n",
    " 'bids_meta.SpacingBetweenSlices', 'bids_meta.dataset', 'bids_meta.modality',\n",
    " 'bids_meta.session_id', 'bids_meta.subject_id', 'cjv', 'cnr', 'efc', 'fber',\n",
    " 'fwhm_avg', 'fwhm_x', 'fwhm_y', 'fwhm_z', 'icvs_csf', 'icvs_gm', 'icvs_wm',\n",
    " 'inu_med', 'inu_range', 'provenance.md5sum', 'provenance.settings.testing',\n",
    " 'provenance.software', 'provenance.version',\n",
    " 'provenance.warnings.large_rot_frame',\n",
    " 'provenance.warnings.small_air_mask', 'provenance.webapi_port',\n",
    " 'provenance.webapi_url', 'qi_1' 'qi_2', 'rpve_csf', 'rpve_gm', 'rpve_wm',\n",
    " 'size_x', 'size_y', 'size_z', 'snr_csf', 'snr_gm', 'snr_total', 'snr_wm',\n",
    " 'snrd_csf', 'snrd_gm', 'snrd_total', 'snrd_wm', 'spacing_x', 'spacing_y',\n",
    " 'spacing_z', 'summary_bg_k', 'summary_bg_mad', 'summary_bg_mean',\n",
    " 'summary_bg_median', 'summary_bg_n', 'summary_bg_p05', 'summary_bg_p95',\n",
    " 'summary_bg_stdv', 'summary_csf_k', 'summary_csf_mad', 'summary_csf_mean',\n",
    " 'summary_csf_median', 'summary_csf_n', 'summary_csf_p05', 'summary_csf_p95',\n",
    " 'summary_csf_stdv', 'summary_gm_k', 'summary_gm_mad', 'summary_gm_mean',\n",
    " 'summary_gm_median', 'summary_gm_n', 'summary_gm_p05', 'summary_gm_p95',\n",
    " 'summary_gm_stdv', 'summary_wm_k', 'summary_wm_mad', 'summary_wm_mean',\n",
    " 'summary_wm_median', 'summary_wm_n', 'summary_wm_p05', 'summary_wm_p95',\n",
    " 'summary_wm_stdv', 'tpm_overlap_csf', 'tpm_overlap_gm', 'tpm_overlap_wm',\n",
    " 'wm2max']\n",
    "    print(col_t)\n",
    "    #assert dat.columns.values == col_t"
   ]
  },
  {
   "cell_type": "code",
   "execution_count": 26,
   "metadata": {},
   "outputs": [
    {
     "name": "stdout",
     "output_type": "stream",
     "text": [
      "['bids_meta.AcquisitionMatrixPE' 'bids_meta.AcquisitionNumber'\n",
      " 'bids_meta.AcquisitionTime' 'bids_meta.ConversionSoftware'\n",
      " 'bids_meta.ConversionSoftwareVersion' 'bids_meta.DeviceSerialNumber'\n",
      " 'bids_meta.EchoTime' 'bids_meta.FlipAngle'\n",
      " 'bids_meta.ImageOrientationPatientDICOM' 'bids_meta.ImageType'\n",
      " 'bids_meta.InPlanePhaseEncodingDirectionDICOM' 'bids_meta.InversionTime'\n",
      " 'bids_meta.MRAcquisitionType' 'bids_meta.MagneticFieldStrength'\n",
      " 'bids_meta.Manufacturer' 'bids_meta.ManufacturersModelName'\n",
      " 'bids_meta.Modality' 'bids_meta.PatientPosition'\n",
      " 'bids_meta.PercentPhaseFOV' 'bids_meta.PixelBandwidth'\n",
      " 'bids_meta.ProtocolName' 'bids_meta.ReconMatrixPE'\n",
      " 'bids_meta.RepetitionTime' 'bids_meta.SAR' 'bids_meta.ScanOptions'\n",
      " 'bids_meta.ScanningSequence' 'bids_meta.SequenceVariant'\n",
      " 'bids_meta.SeriesDescription' 'bids_meta.SeriesNumber'\n",
      " 'bids_meta.SliceThickness' 'bids_meta.SoftwareVersions'\n",
      " 'bids_meta.SpacingBetweenSlices' 'bids_meta.dataset' 'bids_meta.modality'\n",
      " 'bids_meta.session_id' 'bids_meta.subject_id' 'cjv' 'cnr' 'efc' 'fber'\n",
      " 'fwhm_avg' 'fwhm_x' 'fwhm_y' 'fwhm_z' 'icvs_csf' 'icvs_gm' 'icvs_wm'\n",
      " 'inu_med' 'inu_range' 'provenance.md5sum' 'provenance.settings.testing'\n",
      " 'provenance.software' 'provenance.version'\n",
      " 'provenance.warnings.large_rot_frame'\n",
      " 'provenance.warnings.small_air_mask' 'provenance.webapi_port'\n",
      " 'provenance.webapi_url' 'qi_1' 'qi_2' 'rpve_csf' 'rpve_gm' 'rpve_wm'\n",
      " 'size_x' 'size_y' 'size_z' 'snr_csf' 'snr_gm' 'snr_total' 'snr_wm'\n",
      " 'snrd_csf' 'snrd_gm' 'snrd_total' 'snrd_wm' 'spacing_x' 'spacing_y'\n",
      " 'spacing_z' 'summary_bg_k' 'summary_bg_mad' 'summary_bg_mean'\n",
      " 'summary_bg_median' 'summary_bg_n' 'summary_bg_p05' 'summary_bg_p95'\n",
      " 'summary_bg_stdv' 'summary_csf_k' 'summary_csf_mad' 'summary_csf_mean'\n",
      " 'summary_csf_median' 'summary_csf_n' 'summary_csf_p05' 'summary_csf_p95'\n",
      " 'summary_csf_stdv' 'summary_gm_k' 'summary_gm_mad' 'summary_gm_mean'\n",
      " 'summary_gm_median' 'summary_gm_n' 'summary_gm_p05' 'summary_gm_p95'\n",
      " 'summary_gm_stdv' 'summary_wm_k' 'summary_wm_mad' 'summary_wm_mean'\n",
      " 'summary_wm_median' 'summary_wm_n' 'summary_wm_p05' 'summary_wm_p95'\n",
      " 'summary_wm_stdv' 'tpm_overlap_csf' 'tpm_overlap_gm' 'tpm_overlap_wm'\n",
      " 'wm2max']\n",
      "['bids_meta.AcquisitionMatrixPE', 'bids_meta.AcquisitionNumber', 'bids_meta.AcquisitionTime', 'bids_meta.ConversionSoftware', 'bids_meta.ConversionSoftwareVersion', 'bids_meta.DeviceSerialNumber', 'bids_meta.EchoTime', 'bids_meta.FlipAngle', 'bids_meta.ImageOrientationPatientDICOM', 'bids_meta.ImageType', 'bids_meta.InPlanePhaseEncodingDirectionDICOM', 'bids_meta.InversionTime', 'bids_meta.MRAcquisitionType', 'bids_meta.MagneticFieldStrength', 'bids_meta.Manufacturer', 'bids_meta.ManufacturersModelName', 'bids_meta.Modality', 'bids_meta.PatientPosition', 'bids_meta.PercentPhaseFOV', 'bids_meta.PixelBandwidth', 'bids_meta.ProtocolName', 'bids_meta.ReconMatrixPE', 'bids_meta.RepetitionTime', 'bids_meta.SAR', 'bids_meta.ScanOptions', 'bids_meta.ScanningSequence', 'bids_meta.SequenceVariant', 'bids_meta.SeriesDescription', 'bids_meta.SeriesNumber', 'bids_meta.SliceThickness', 'bids_meta.SoftwareVersions', 'bids_meta.SpacingBetweenSlices', 'bids_meta.dataset', 'bids_meta.modality', 'bids_meta.session_id', 'bids_meta.subject_id', 'cjv', 'cnr', 'efc', 'fber', 'fwhm_avg', 'fwhm_x', 'fwhm_y', 'fwhm_z', 'icvs_csf', 'icvs_gm', 'icvs_wm', 'inu_med', 'inu_range', 'provenance.md5sum', 'provenance.settings.testing', 'provenance.software', 'provenance.version', 'provenance.warnings.large_rot_frame', 'provenance.warnings.small_air_mask', 'provenance.webapi_port', 'provenance.webapi_url', 'qi_1qi_2', 'rpve_csf', 'rpve_gm', 'rpve_wm', 'size_x', 'size_y', 'size_z', 'snr_csf', 'snr_gm', 'snr_total', 'snr_wm', 'snrd_csf', 'snrd_gm', 'snrd_total', 'snrd_wm', 'spacing_x', 'spacing_y', 'spacing_z', 'summary_bg_k', 'summary_bg_mad', 'summary_bg_mean', 'summary_bg_median', 'summary_bg_n', 'summary_bg_p05', 'summary_bg_p95', 'summary_bg_stdv', 'summary_csf_k', 'summary_csf_mad', 'summary_csf_mean', 'summary_csf_median', 'summary_csf_n', 'summary_csf_p05', 'summary_csf_p95', 'summary_csf_stdv', 'summary_gm_k', 'summary_gm_mad', 'summary_gm_mean', 'summary_gm_median', 'summary_gm_n', 'summary_gm_p05', 'summary_gm_p95', 'summary_gm_stdv', 'summary_wm_k', 'summary_wm_mad', 'summary_wm_mean', 'summary_wm_median', 'summary_wm_n', 'summary_wm_p05', 'summary_wm_p95', 'summary_wm_stdv', 'tpm_overlap_csf', 'tpm_overlap_gm', 'tpm_overlap_wm', 'wm2max']\n"
     ]
    }
   ],
   "source": [
    "# uncomment below to run tests\n",
    "readjson_test()"
   ]
  },
  {
   "cell_type": "code",
   "execution_count": null,
   "metadata": {},
   "outputs": [],
   "source": []
  }
 ],
 "metadata": {
  "kernelspec": {
   "display_name": "Python 3",
   "language": "python",
   "name": "python3"
  },
  "language_info": {
   "codemirror_mode": {
    "name": "ipython",
    "version": 3
   },
   "file_extension": ".py",
   "mimetype": "text/x-python",
   "name": "python",
   "nbconvert_exporter": "python",
   "pygments_lexer": "ipython3",
   "version": "3.7.1"
  }
 },
 "nbformat": 4,
 "nbformat_minor": 2
}
